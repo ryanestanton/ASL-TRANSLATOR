{
 "cells": [
  {
   "cell_type": "code",
   "execution_count": 1,
   "id": "a28bf7e8-38a9-4ed4-a961-dd171faf4fb3",
   "metadata": {},
   "outputs": [],
   "source": [
    "import turtle\n",
    "\n"
   ]
  },
  {
   "cell_type": "code",
   "execution_count": 2,
   "id": "d130e1b7-f7a8-4cf1-be5b-66ec71767963",
   "metadata": {},
   "outputs": [
    {
     "name": "stdout",
     "output_type": "stream",
     "text": [
      "125\n"
     ]
    }
   ],
   "source": [
    "t = turtle.Turtle()\n",
    "wn = turtle.Screen()\n",
    "wn.setup(300,300)\n",
    "wn.bgcolor(\"White\")\n",
    "wn.title(\"Text\")\n",
    "t.pu()\n",
    "t.goto(-125,125)\n",
    "t.hideturtle()\n",
    "t.goto(125,125)\n",
    "i=t.pos()\n",
    "j = i[1]\n",
    "print(j)"
   ]
  }
 ],
 "metadata": {
  "kernelspec": {
   "display_name": "Python 3 (ipykernel)",
   "language": "python",
   "name": "python3"
  },
  "language_info": {
   "codemirror_mode": {
    "name": "ipython",
    "version": 3
   },
   "file_extension": ".py",
   "mimetype": "text/x-python",
   "name": "python",
   "nbconvert_exporter": "python",
   "pygments_lexer": "ipython3",
   "version": "3.7.9"
  }
 },
 "nbformat": 4,
 "nbformat_minor": 5
}
